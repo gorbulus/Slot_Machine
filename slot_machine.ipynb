{
 "cells": [
  {
   "cell_type": "markdown",
   "metadata": {},
   "source": [
    "# SLot Machine Game\n",
    "## William Ponton\n",
    "### 2.24.19\n",
    "### Data visualizations and statistical analysis of the slot_machine game"
   ]
  },
  {
   "cell_type": "code",
   "execution_count": 4,
   "metadata": {},
   "outputs": [],
   "source": [
    "import numpy as np\n",
    "import matplotlib.pyplot as plt\n",
    "import main\n",
    "\n",
    "%matplotlib inline"
   ]
  },
  {
   "cell_type": "code",
   "execution_count": 5,
   "metadata": {},
   "outputs": [
    {
     "name": "stdout",
     "output_type": "stream",
     "text": [
      "========================================\n",
      "\tWelcome to the Slot Machine!\n",
      "========================================\n",
      "\tMatch 2 of any kind to win $5\n",
      "\tMatch 3 of any fruit to win $10\n",
      "\tMatch 3 BELLS to win $50!\n",
      "\n"
     ]
    },
    {
     "name": "stdin",
     "output_type": "stream",
     "text": [
      "Do you want to play? (y or n):  y\n"
     ]
    },
    {
     "name": "stdout",
     "output_type": "stream",
     "text": [
      "\n",
      "========================================\n",
      "\t OK, pulling the lever!\n",
      "\n",
      "[3, 1, 4, 4]\n",
      "[3, 1, 4, 4, 2, 4, 3, 2]\n",
      "[3, 1, 4, 4, 2, 4, 3, 2, 2, 1, 4, 4]\n",
      "[3, 1, 4, 4, 2, 4, 3, 2, 2, 1, 4, 4, 3, 4, 3, 4]\n",
      "[3, 1, 4, 4, 2, 4, 3, 2, 2, 1, 4, 4, 3, 4, 3, 4, 2, 4, 4, 1]\n",
      "[3, 1, 4, 4, 2, 4, 3, 2, 2, 1, 4, 4, 3, 4, 3, 4, 2, 4, 4, 1, 1, 2, 3, 2]\n",
      "['3', '1', '2', '4', '3']\n",
      "3\n",
      "1\n",
      "2\n",
      "Your draw: ['3', '1', '2', '4', '3']\n",
      "0\n",
      "0\n",
      "\tPlums | Cherries | Oranges\n",
      "========================================\n",
      "You earned $0\n",
      "\n",
      "========================================\n",
      "In 1 play(s), you have earned $0.0.\n",
      "========================================\n"
     ]
    },
    {
     "name": "stdin",
     "output_type": "stream",
     "text": [
      "Do you want to play? (y or n):  \n"
     ]
    },
    {
     "name": "stdout",
     "output_type": "stream",
     "text": [
      "\n",
      "========================================\n",
      "Thanks for playing~!\n",
      "\n",
      "========================================\n",
      "In 1 play(s), you have earned $0.0.\n",
      "========================================\n"
     ]
    }
   ],
   "source": [
    "%run main.py"
   ]
  },
  {
   "cell_type": "code",
   "execution_count": 11,
   "metadata": {},
   "outputs": [
    {
     "data": {
      "image/png": "[encoded data removed]",
      "text/plain": [
       "<Figure size 432x288 with 1 Axes>"
      ]
     },
     "metadata": {
      "needs_background": "light"
     },
     "output_type": "display_data"
    }
   ],
   "source": [
    "# Oh here we go!\n",
    "item_count = [3, 1, 4, 4, 2, 4, 3, 2, 2, 1, 4, 4, 3, 4, 3, 4, 2, 4, 4, 1, 1, 2, 3, 2]\n",
    "\n",
    "turns = list(range(len(item_count)))\n",
    "plt.bar(item_count, turns)\n",
    "plt.show()"
   ]
  },
  {
   "cell_type": "code",
   "execution_count": null,
   "metadata": {},
   "outputs": [],
   "source": []
  }
 ],
 "metadata": {
  "kernelspec": {
   "display_name": "Python 3",
   "language": "python",
   "name": "python3"
  },
  "language_info": {
   "codemirror_mode": {
    "name": "ipython",
    "version": 3
   },
   "file_extension": ".py",
   "mimetype": "text/x-python",
   "name": "python",
   "nbconvert_exporter": "python",
   "pygments_lexer": "ipython3",
   "version": "3.6.8"
  }
 },
 "nbformat": 4,
 "nbformat_minor": 2
}
