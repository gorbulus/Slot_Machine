{
 "cells": [
  {
   "cell_type": "markdown",
   "metadata": {},
   "source": [
    "# SLot Machine Game\n",
    "## William Ponton\n",
    "### 2.24.19\n",
    "### Data visualizations and statistical analysis of the slot_machine game"
   ]
  },
  {
   "cell_type": "code",
   "execution_count": 4,
   "metadata": {},
   "outputs": [],
   "source": [
    "import numpy as np\n",
    "import matplotlib.pyplot as plt\n",
    "import main\n",
    "\n",
    "%matplotlib inline"
   ]
  },
  {
   "cell_type": "code",
   "execution_count": 5,
   "metadata": {},
   "outputs": [
    {
     "name": "stdout",
     "output_type": "stream",
     "text": [
      "========================================\n",
      "\tWelcome to the Slot Machine!\n",
      "========================================\n",
      "\tMatch 2 of any kind to win $5\n",
      "\tMatch 3 of any fruit to win $10\n",
      "\tMatch 3 BELLS to win $50!\n",
      "\n"
     ]
    },
    {
     "name": "stdin",
     "output_type": "stream",
     "text": [
      "Do you want to play? (y or n):  y\n"
     ]
    },
    {
     "name": "stdout",
     "output_type": "stream",
     "text": [
      "\n",
      "========================================\n",
      "\t OK, pulling the lever!\n",
      "\n",
      "[3, 1, 4, 4]\n",
      "[3, 1, 4, 4, 2, 4, 3, 2]\n",
      "[3, 1, 4, 4, 2, 4, 3, 2, 2, 1, 4, 4]\n",
      "[3, 1, 4, 4, 2, 4, 3, 2, 2, 1, 4, 4, 3, 4, 3, 4]\n",
      "[3, 1, 4, 4, 2, 4, 3, 2, 2, 1, 4, 4, 3, 4, 3, 4, 2, 4, 4, 1]\n",
      "[3, 1, 4, 4, 2, 4, 3, 2, 2, 1, 4, 4, 3, 4, 3, 4, 2, 4, 4, 1, 1, 2, 3, 2]\n",
      "['3', '1', '2', '4', '3']\n",
      "3\n",
      "1\n",
      "2\n",
      "Your draw: ['3', '1', '2', '4', '3']\n",
      "0\n",
      "0\n",
      "\tPlums | Cherries | Oranges\n",
      "========================================\n",
      "You earned $0\n",
      "\n",
      "========================================\n",
      "In 1 play(s), you have earned $0.0.\n",
      "========================================\n"
     ]
    },
    {
     "name": "stdin",
     "output_type": "stream",
     "text": [
      "Do you want to play? (y or n):  \n"
     ]
    },
    {
     "name": "stdout",
     "output_type": "stream",
     "text": [
      "\n",
      "========================================\n",
      "Thanks for playing~!\n",
      "\n",
      "========================================\n",
      "In 1 play(s), you have earned $0.0.\n",
      "========================================\n"
     ]
    }
   ],
   "source": [
    "%run main.py"
   ]
  },
  {
   "cell_type": "code",
   "execution_count": 10,
   "metadata": {},
   "outputs": [
    {
     "ename": "AttributeError",
     "evalue": "'function' object has no attribute 'bar'",
     "output_type": "error",
     "traceback": [
      "\u001b[0;31m---------------------------------------------------------------------------\u001b[0m",
      "\u001b[0;31mAttributeError\u001b[0m                            Traceback (most recent call last)",
      "\u001b[0;32m<ipython-input-10-2481d11542cc>\u001b[0m in \u001b[0;36m<module>\u001b[0;34m\u001b[0m\n\u001b[1;32m      3\u001b[0m \u001b[0;34m\u001b[0m\u001b[0m\n\u001b[1;32m      4\u001b[0m \u001b[0mturns\u001b[0m \u001b[0;34m=\u001b[0m \u001b[0mlist\u001b[0m\u001b[0;34m(\u001b[0m\u001b[0mrange\u001b[0m\u001b[0;34m(\u001b[0m\u001b[0mlen\u001b[0m\u001b[0;34m(\u001b[0m\u001b[0mitem_count\u001b[0m\u001b[0;34m)\u001b[0m\u001b[0;34m)\u001b[0m\u001b[0;34m)\u001b[0m\u001b[0;34m\u001b[0m\u001b[0;34m\u001b[0m\u001b[0m\n\u001b[0;32m----> 5\u001b[0;31m \u001b[0mplt\u001b[0m\u001b[0;34m.\u001b[0m\u001b[0mplot\u001b[0m\u001b[0;34m.\u001b[0m\u001b[0mbar\u001b[0m\u001b[0;34m(\u001b[0m\u001b[0mitem_count\u001b[0m\u001b[0;34m,\u001b[0m \u001b[0mturns\u001b[0m\u001b[0;34m)\u001b[0m\u001b[0;34m\u001b[0m\u001b[0;34m\u001b[0m\u001b[0m\n\u001b[0m\u001b[1;32m      6\u001b[0m \u001b[0mplt\u001b[0m\u001b[0;34m.\u001b[0m\u001b[0mshow\u001b[0m\u001b[0;34m(\u001b[0m\u001b[0;34m)\u001b[0m\u001b[0;34m\u001b[0m\u001b[0;34m\u001b[0m\u001b[0m\n",
      "\u001b[0;31mAttributeError\u001b[0m: 'function' object has no attribute 'bar'"
     ]
    }
   ],
   "source": [
    "# Oh here we go!\n",
    "item_count = [3, 1, 4, 4, 2, 4, 3, 2, 2, 1, 4, 4, 3, 4, 3, 4, 2, 4, 4, 1, 1, 2, 3, 2]\n",
    "\n",
    "turns = list(range(len(item_count)))\n",
    "plt.bar(item_count, turns)\n",
    "plt.show()"
   ]
  },
  {
   "cell_type": "code",
   "execution_count": null,
   "metadata": {},
   "outputs": [],
   "source": []
  }
 ],
 "metadata": {
  "kernelspec": {
   "display_name": "Python 3",
   "language": "python",
   "name": "python3"
  },
  "language_info": {
   "codemirror_mode": {
    "name": "ipython",
    "version": 3
   },
   "file_extension": ".py",
   "mimetype": "text/x-python",
   "name": "python",
   "nbconvert_exporter": "python",
   "pygments_lexer": "ipython3",
   "version": "3.6.8"
  }
 },
 "nbformat": 4,
 "nbformat_minor": 2
}
